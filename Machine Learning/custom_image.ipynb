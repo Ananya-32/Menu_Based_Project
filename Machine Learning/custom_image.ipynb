{
 "cells": [
  {
   "cell_type": "code",
   "execution_count": 1,
   "metadata": {},
   "outputs": [],
   "source": [
    "import numpy as np\n",
    "import cv2\n",
    "\n",
    "def create_custom_image():\n",
    "    # Create a blank image with 3 channels (RGB) and a white background\n",
    "    image = np.ones((500, 500, 3), dtype=np.uint8) * 255  # 500x500 pixels with a white background\n",
    "\n",
    "# Add text at the top\n",
    "cv2.putText(image, 'Custom Image', (120, 50), cv2.FONT_HERSHEY_SIMPLEX, 1, (0, 0, 0), 2, cv2.LINE_AA)  # (image, text, origin, font, scale, color, thickness, lineType)\n",
    "\n",
    "# Draw a purple triangle in the bottom left\n",
    "points = np.array([[50, 450], [150, 300], [250, 450]], np.int32)  # Coordinates of the triangle vertices\n",
    "points = points.reshape((-1, 1, 2))\n",
    "cv2.polylines(image, [points], isClosed=True, color=(128, 0, 128), thickness=5)\n",
    "cv2.fillPoly(image, [points], color=(128, 0, 128))\n",
    "\n",
    "# Draw an orange moon (crescent) in the top right\n",
    "cv2.circle(image, (450, 150), 50, (0, 165, 255), -1)  # Large orange circle\n",
    "cv2.circle(image, (470, 150), 50, (255, 255, 255), -1)  # Small white circle to create crescent shape\n",
    "\n",
    "# Draw a blue line in the middle\n",
    "cv2.line(image, (50, 250), (450, 250), (255, 0, 0), 5)  # (image, start-point, end-point, color, thickness)\n",
    "\n",
    "# Draw a yellow ellipse in the bottom right\n",
    "cv2.ellipse(image, (400, 400), (80, 40), 0, 0, 360, (0, 255, 255), -1)  # (image, center, axes, angle, startAngle, endAngle, color, thickness)\n",
    "\n",
    "# Display the image\n",
    "cv2.imshow('Custom Image', image)\n",
    "cv2.waitKey(0)\n",
    "cv2.destroyAllWindows()\n",
    "\n",
    "if __name__ == \"__main__\":\n",
    "    create_custom_image()\n"
   ]
  },
  {
   "cell_type": "code",
   "execution_count": null,
   "metadata": {},
   "outputs": [],
   "source": []
  }
 ],
 "metadata": {
  "kernelspec": {
   "display_name": "Python 3",
   "language": "python",
   "name": "python3"
  },
  "language_info": {
   "codemirror_mode": {
    "name": "ipython",
    "version": 3
   },
   "file_extension": ".py",
   "mimetype": "text/x-python",
   "name": "python",
   "nbconvert_exporter": "python",
   "pygments_lexer": "ipython3",
   "version": "3.11.4"
  }
 },
 "nbformat": 4,
 "nbformat_minor": 2
}
