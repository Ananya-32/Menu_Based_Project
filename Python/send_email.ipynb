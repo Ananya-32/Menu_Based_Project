{
 "cells": [
  {
   "cell_type": "code",
   "execution_count": 1,
   "id": "5ca9c3ac-181f-45c0-896d-aaf2cfb61f77",
   "metadata": {},
   "outputs": [
    {
     "name": "stdin",
     "output_type": "stream",
     "text": [
      "Enter your email address:  ananyakm30@gmail.com\n",
      "Enter receiver's email address:  abhinavkm0504@gmail.com\n",
      "Enter your email password:  fnmxisfkszxqgtvh\n",
      "Enter subject of Mail:  hello\n",
      "Enter body of Mail:  hiii\n"
     ]
    },
    {
     "name": "stdout",
     "output_type": "stream",
     "text": [
      "Email sent successfully.\n"
     ]
    }
   ],
   "source": [
    "import smtplib\n",
    "from email.mime.multipart import MIMEMultipart\n",
    "from email.mime.text import MIMEText\n",
    "\n",
    "def send_email(sender_email, receiver_email, password, subject, body):\n",
    "    # Create the email message\n",
    "    message = MIMEMultipart()\n",
    "    message[\"From\"] = sender_email\n",
    "    message[\"To\"] = receiver_email\n",
    "    message[\"Subject\"] = subject\n",
    "    message.attach(MIMEText(body, \"plain\"))\n",
    "\n",
    "    try:\n",
    "        # Connect to the SMTP server and send the email\n",
    "        with smtplib.SMTP(\"smtp.gmail.com\", 587) as server:\n",
    "            server.starttls()\n",
    "            server.login(sender_email, password)\n",
    "            server.sendmail(sender_email, receiver_email, message.as_string())\n",
    "        print(\"Email sent successfully.\")\n",
    "    except Exception as e:\n",
    "        print(f\"Error sending email: {e}\")\n",
    "\n",
    "if __name__ == '__main__':\n",
    "    sender_email = input(\"Enter your email address: \")\n",
    "    receiver_email = input(\"Enter receiver's email address: \")\n",
    "    password = input(\"Enter your email password: \")\n",
    "    subject = input(\"Enter subject of Mail: \")\n",
    "    body = input(\"Enter body of Mail: \")\n",
    "    \n",
    "    send_email(sender_email, receiver_email, password, subject, body)\n"
   ]
  },
  {
   "cell_type": "code",
   "execution_count": null,
   "id": "5e1c76d1-6d1a-4c77-942c-bef2b95bb452",
   "metadata": {},
   "outputs": [],
   "source": []
  }
 ],
 "metadata": {
  "kernelspec": {
   "display_name": "Python 3 (ipykernel)",
   "language": "python",
   "name": "python3"
  },
  "language_info": {
   "codemirror_mode": {
    "name": "ipython",
    "version": 3
   },
   "file_extension": ".py",
   "mimetype": "text/x-python",
   "name": "python",
   "nbconvert_exporter": "python",
   "pygments_lexer": "ipython3",
   "version": "3.12.4"
  }
 },
 "nbformat": 4,
 "nbformat_minor": 5
}
