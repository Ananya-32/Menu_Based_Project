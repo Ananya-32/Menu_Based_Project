{
 "cells": [
  {
   "cell_type": "code",
   "execution_count": null,
   "id": "ffae4c81-2eb1-4789-9362-7b4ed5ad6220",
   "metadata": {},
   "outputs": [],
   "source": [
    "from twilio.rest import Client\n",
    "account_sid = 'Enter your id'\n",
    "auth_token = 'Enter your token'\n",
    "client = Client(account_sid, auth_token)\n",
    "twilio_phone_number = '+12569989735'\n",
    "recipient_phone_number = input(\"Enter recipient number (linked with Twilio): \")\n",
    "message = client.messages.create(\n",
    "    body=input(\"Enter your text message: \"),\n",
    "     from_=twilio_phone_number,\n",
    "     to=recipient_phone_number\n",
    "    )\n",
    "print(f\"Message sent successfully. SID: {message.sid}\")"
   ]
  }
 ],
 "metadata": {
  "kernelspec": {
   "display_name": "Python 3 (ipykernel)",
   "language": "python",
   "name": "python3"
  },
  "language_info": {
   "codemirror_mode": {
    "name": "ipython",
    "version": 3
   },
   "file_extension": ".py",
   "mimetype": "text/x-python",
   "name": "python",
   "nbconvert_exporter": "python",
   "pygments_lexer": "ipython3",
   "version": "3.12.4"
  }
 },
 "nbformat": 4,
 "nbformat_minor": 5
}
