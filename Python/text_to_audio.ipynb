{
 "cells": [
  {
   "cell_type": "code",
   "execution_count": null,
   "id": "b61d0635-0f6c-4a23-8312-632bc2464ff8",
   "metadata": {},
   "outputs": [],
   "source": [
    "pip install gtts googletrans==4.0.0-rc1\n"
   ]
  },
  {
   "cell_type": "code",
   "execution_count": null,
   "id": "b7e1bb40-e54f-4772-8bd1-c9b06cb6337a",
   "metadata": {},
   "outputs": [],
   "source": [
    "from gtts import gTTS\n",
    "import os\n",
    "from googletrans import Translator\n",
    "\n",
    "translator = Translator()\n",
    "\n",
    "# Input handling\n",
    "lang1 = input(\"Enter your language code (e.g., en for English): \").strip().lower()\n",
    "text = input(\"Enter Text to translate: \").strip()\n",
    "lang2 = input(\"Enter the language code you want to translate to (e.g., fr for French): \").strip().lower()\n",
    "\n",
    "# Translate text\n",
    "translation = translator.translate(text, src=lang1, dest=lang2)\n",
    "\n",
    "# Output original and translated text\n",
    "print(f\"\\nOriginal text: {text}\")\n",
    "print(f\"Translated text: {translation.text}\")\n",
    "\n",
    "# Convert translated text to speech\n",
    "audio = gTTS(text=translation.text, lang=lang2)\n",
    "\n",
    "# Save audio to file\n",
    "audio_file = \"Msg.mp3\"\n",
    "audio.save(audio_file)\n",
    "print(f\"Audio saved to {audio_file}\")\n",
    "\n",
    "# Play the saved audio file\n",
    "def play_audio(file):\n",
    "    if os.name == 'nt':  # For Windows\n",
    "        os.system(f'start {file}')\n",
    "    elif os.name == 'posix':  # For Unix-like OSes (Linux, macOS)\n",
    "        if 'Darwin' in os.uname().sysname:  # macOS\n",
    "            os.system(f'afplay {file}')\n",
    "        else:  # Linux\n",
    "            os.system(f'mpg321 {file}')  # Ensure mpg321 is installed or use another audio player\n",
    "    else:\n",
    "        print(\"Playback on this operating system is not supported.\")\n",
    "\n",
    "play_audio(audio_file)\n"
   ]
  },
  {
   "cell_type": "code",
   "execution_count": null,
   "id": "82c636a2-3d72-4ba6-9f30-e51213045969",
   "metadata": {},
   "outputs": [],
   "source": []
  }
 ],
 "metadata": {
  "kernelspec": {
   "display_name": "Python 3 (ipykernel)",
   "language": "python",
   "name": "python3"
  },
  "language_info": {
   "codemirror_mode": {
    "name": "ipython",
    "version": 3
   },
   "file_extension": ".py",
   "mimetype": "text/x-python",
   "name": "python",
   "nbconvert_exporter": "python",
   "pygments_lexer": "ipython3",
   "version": "3.12.4"
  }
 },
 "nbformat": 4,
 "nbformat_minor": 5
}
