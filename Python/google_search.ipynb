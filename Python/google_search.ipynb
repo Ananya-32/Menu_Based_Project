{
 "cells": [
  {
   "cell_type": "code",
   "execution_count": null,
   "id": "edfe1831-159f-4353-882b-ba67486c5859",
   "metadata": {},
   "outputs": [],
   "source": [
    "import googlesearch\n",
    "from googlesearch import search\n",
    "def google_search(query):\n",
    "    try:\n",
    "        url = f\"https://www.google.com/search?q={query}\"\n",
    "        headers = {\"User-Agent\": \"Mozilla/5.0\"}\n",
    "        response = requests.get(url, headers=headers)\n",
    "        soup = BeautifulSoup(response.text, 'html.parser')\n",
    "\n",
    "        results = soup.find_all('h3', limit=5)\n",
    "        for index, result in enumerate(results, 1):\n",
    "            print(f\"{index}. {result.text}\")\n",
    "\n",
    "    except Exception as e:\n",
    "        print(f\"Failed to scrape Google search results: {e}\")\n",
    "\n",
    "\t\t\n",
    "if __name__ == '__main__':\n",
    "\tquery = input(\"Enter the search query: \") \n",
    "results=google_search(query)\n"
   ]
  },
  {
   "cell_type": "code",
   "execution_count": null,
   "id": "5eee8846-0b71-48d3-bd4b-89cb68446a9a",
   "metadata": {},
   "outputs": [],
   "source": []
  },
  {
   "cell_type": "code",
   "execution_count": null,
   "id": "4f6dde46-2370-45f9-8ed1-d760e09a3768",
   "metadata": {},
   "outputs": [],
   "source": []
  },
  {
   "cell_type": "code",
   "execution_count": null,
   "id": "025951d8-fd25-4327-800b-87c3dd7f6e14",
   "metadata": {},
   "outputs": [],
   "source": []
  }
 ],
 "metadata": {
  "kernelspec": {
   "display_name": "Python 3 (ipykernel)",
   "language": "python",
   "name": "python3"
  },
  "language_info": {
   "codemirror_mode": {
    "name": "ipython",
    "version": 3
   },
   "file_extension": ".py",
   "mimetype": "text/x-python",
   "name": "python",
   "nbconvert_exporter": "python",
   "pygments_lexer": "ipython3",
   "version": "3.12.4"
  }
 },
 "nbformat": 4,
 "nbformat_minor": 5
}
