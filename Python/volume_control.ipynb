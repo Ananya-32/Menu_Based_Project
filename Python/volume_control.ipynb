{
 "cells": [
  {
   "cell_type": "code",
   "execution_count": 1,
   "id": "41242d7d-04ba-4a9c-a4e1-b6c1b6e72ba4",
   "metadata": {},
   "outputs": [
    {
     "name": "stdin",
     "output_type": "stream",
     "text": [
      "Enter the volume level (0-100):  30\n"
     ]
    },
    {
     "name": "stdout",
     "output_type": "stream",
     "text": [
      "Volume set to 30%\n"
     ]
    }
   ],
   "source": [
    "from ctypes import cast, POINTER\n",
    "from comtypes import CLSCTX_ALL\n",
    "from pycaw.pycaw import AudioUtilities, IAudioEndpointVolume\n",
    "\n",
    "def set_volume(level):\n",
    "    try:\n",
    "        devices = AudioUtilities.GetSpeakers()\n",
    "        interface = devices.Activate(IAudioEndpointVolume._iid_, CLSCTX_ALL, None)\n",
    "        volume = cast(interface, POINTER(IAudioEndpointVolume))\n",
    "        # Normalize the level (input 0-100) to the range that pycaw uses (-96.0 to 0.0 dB)\n",
    "        level_normalized = level / 100.0\n",
    "        volume.SetMasterVolumeLevelScalar(level_normalized, None)\n",
    "        print(f\"Volume set to {level}%\")\n",
    "\n",
    "    except Exception as e:\n",
    "        print(f\"Failed to control volume: {e}\")\n",
    "level = int(input(\"Enter the volume level (0-100): \"))\n",
    "set_volume(level)\n"
   ]
  },
  {
   "cell_type": "code",
   "execution_count": null,
   "id": "a8d9c38d-a2b4-4799-ac98-55ad020f66b4",
   "metadata": {},
   "outputs": [],
   "source": []
  }
 ],
 "metadata": {
  "kernelspec": {
   "display_name": "Python 3 (ipykernel)",
   "language": "python",
   "name": "python3"
  },
  "language_info": {
   "codemirror_mode": {
    "name": "ipython",
    "version": 3
   },
   "file_extension": ".py",
   "mimetype": "text/x-python",
   "name": "python",
   "nbconvert_exporter": "python",
   "pygments_lexer": "ipython3",
   "version": "3.12.4"
  }
 },
 "nbformat": 4,
 "nbformat_minor": 5
}
