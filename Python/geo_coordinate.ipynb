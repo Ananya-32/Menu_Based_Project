{
 "cells": [
  {
   "cell_type": "code",
   "execution_count": 2,
   "id": "ce8c50be-b6bb-4727-a30f-58247d27035b",
   "metadata": {},
   "outputs": [
    {
     "name": "stdout",
     "output_type": "stream",
     "text": [
      "Content-Type: application/json\n",
      "\n",
      "{\"latitude\": 44.933143, \"longitude\": 7.540121}\n"
     ]
    }
   ],
   "source": [
    "#!/usr/bin/env python3\n",
    "\n",
    "import cgi\n",
    "import cgitb\n",
    "import json\n",
    "from geopy.geocoders import Nominatim\n",
    "\n",
    "# Enable CGI traceback for debugging\n",
    "cgitb.enable()\n",
    "\n",
    "# Print necessary headers for a JSON response\n",
    "print(\"Content-Type: application/json\\n\")\n",
    "\n",
    "# Parse the query parameters\n",
    "form = cgi.FieldStorage()\n",
    "location_name = form.getvalue(\"location\")  # Get the 'location' parameter from the URL\n",
    "\n",
    "# Function to get coordinates from a place name\n",
    "def get_coordinates(location_name):\n",
    "    geolocator = Nominatim(user_agent=\"my_geocoder\")\n",
    "    location = geolocator.geocode(location_name)  # Geocode the location name\n",
    "    if location:\n",
    "        return {\"latitude\": location.latitude, \"longitude\": location.longitude}\n",
    "    else:\n",
    "        return {\"error\": \"Location not found\"}\n",
    "\n",
    "# Get coordinates for the provided location name\n",
    "coordinates = get_coordinates(location_name)\n",
    "\n",
    "# Output the result as JSON\n",
    "print(json.dumps(coordinates))"
   ]
  },
  {
   "cell_type": "code",
   "execution_count": null,
   "id": "6b7afe46-6f2a-4212-8388-8f8ebd1194b2",
   "metadata": {},
   "outputs": [],
   "source": []
  }
 ],
 "metadata": {
  "kernelspec": {
   "display_name": "Python 3 (ipykernel)",
   "language": "python",
   "name": "python3"
  },
  "language_info": {
   "codemirror_mode": {
    "name": "ipython",
    "version": 3
   },
   "file_extension": ".py",
   "mimetype": "text/x-python",
   "name": "python",
   "nbconvert_exporter": "python",
   "pygments_lexer": "ipython3",
   "version": "3.12.4"
  }
 },
 "nbformat": 4,
 "nbformat_minor": 5
}
